{
 "cells": [
  {
   "cell_type": "code",
   "execution_count": 1,
   "id": "61053abf",
   "metadata": {},
   "outputs": [],
   "source": [
    "import numpy as np\n",
    "import tensorflow as tf\n",
    "from tensorflow.keras.datasets import imdb\n",
    "from tensorflow.keras.preprocessing import sequence\n",
    "from tensorflow.keras.models import Sequential\n",
    "from tensorflow.keras.layers import Embedding, SimpleRNN, Dense"
   ]
  },
  {
   "cell_type": "code",
   "execution_count": 3,
   "id": "136fa089",
   "metadata": {},
   "outputs": [],
   "source": [
    "##mapping the words to their indices to words\n",
    "word_index = imdb.get_word_index()\n",
    "reverse_word_index = {val: key for key, val in word_index.items()}\n"
   ]
  },
  {
   "cell_type": "code",
   "execution_count": 8,
   "id": "21fe9db1",
   "metadata": {},
   "outputs": [
    {
     "name": "stdout",
     "output_type": "stream",
     "text": [
      "Training data shape: (25000,), Labels shape: (25000,)\n",
      "Test data shape: (25000,), Labels shape: (25000,)\n"
     ]
    }
   ],
   "source": [
    "##loading the dataset\n",
    "max_features = 10000  # Number of unique words to consider\n",
    "(x_train, y_train), (x_test, y_test) = imdb.load_data(num_words=max_features)\n",
    "\n",
    "#printing the shape of the data\n",
    "print(f\"Training data shape: {x_train.shape}, Labels shape: {y_train.shape}\")\n",
    "print(f\"Test data shape: {x_test.shape}, Labels shape: {y_test.shape}\")"
   ]
  },
  {
   "cell_type": "code",
   "execution_count": 10,
   "id": "ca35e180",
   "metadata": {},
   "outputs": [
    {
     "name": "stdout",
     "output_type": "stream",
     "text": [
      "Sample review (encoded): [1, 14, 22, 16, 43, 530, 973, 1622, 1385, 65, 458, 4468, 66, 3941, 4, 173, 36, 256, 5, 25, 100, 43, 838, 112, 50, 670, 2, 9, 35, 480, 284, 5, 150, 4, 172, 112, 167, 2, 336, 385, 39, 4, 172, 4536, 1111, 17, 546, 38, 13, 447, 4, 192, 50, 16, 6, 147, 2025, 19, 14, 22, 4, 1920, 4613, 469, 4, 22, 71, 87, 12, 16, 43, 530, 38, 76, 15, 13, 1247, 4, 22, 17, 515, 17, 12, 16, 626, 18, 2, 5, 62, 386, 12, 8, 316, 8, 106, 5, 4, 2223, 5244, 16, 480, 66, 3785, 33, 4, 130, 12, 16, 38, 619, 5, 25, 124, 51, 36, 135, 48, 25, 1415, 33, 6, 22, 12, 215, 28, 77, 52, 5, 14, 407, 16, 82, 2, 8, 4, 107, 117, 5952, 15, 256, 4, 2, 7, 3766, 5, 723, 36, 71, 43, 530, 476, 26, 400, 317, 46, 7, 4, 2, 1029, 13, 104, 88, 4, 381, 15, 297, 98, 32, 2071, 56, 26, 141, 6, 194, 7486, 18, 4, 226, 22, 21, 134, 476, 26, 480, 5, 144, 30, 5535, 18, 51, 36, 28, 224, 92, 25, 104, 4, 226, 65, 16, 38, 1334, 88, 12, 16, 283, 5, 16, 4472, 113, 103, 32, 15, 16, 5345, 19, 178, 32]\n",
      "Sample label: 1\n"
     ]
    }
   ],
   "source": [
    "##inspaect a sample review\n",
    "sample_review = x_train[0]\n",
    "sample_label = y_train[0]\n",
    "print(f\"Sample review (encoded): {sample_review}\")\n",
    "print(f\"Sample label: {sample_label}\")"
   ]
  },
  {
   "cell_type": "code",
   "execution_count": 4,
   "id": "7146f884",
   "metadata": {},
   "outputs": [],
   "source": [
    "from tensorflow.keras.models import load_model\n",
    "model=load_model('simple_rnn_model.keras')"
   ]
  },
  {
   "cell_type": "code",
   "execution_count": 5,
   "id": "8eac3fdb",
   "metadata": {},
   "outputs": [
    {
     "data": {
      "text/html": [
       "<pre style=\"white-space:pre;overflow-x:auto;line-height:normal;font-family:Menlo,'DejaVu Sans Mono',consolas,'Courier New',monospace\"><span style=\"font-weight: bold\">Model: \"sequential\"</span>\n",
       "</pre>\n"
      ],
      "text/plain": [
       "\u001b[1mModel: \"sequential\"\u001b[0m\n"
      ]
     },
     "metadata": {},
     "output_type": "display_data"
    },
    {
     "data": {
      "text/html": [
       "<pre style=\"white-space:pre;overflow-x:auto;line-height:normal;font-family:Menlo,'DejaVu Sans Mono',consolas,'Courier New',monospace\">┏━━━━━━━━━━━━━━━━━━━━━━━━━━━━━━━━━┳━━━━━━━━━━━━━━━━━━━━━━━━┳━━━━━━━━━━━━━━━┓\n",
       "┃<span style=\"font-weight: bold\"> Layer (type)                    </span>┃<span style=\"font-weight: bold\"> Output Shape           </span>┃<span style=\"font-weight: bold\">       Param # </span>┃\n",
       "┡━━━━━━━━━━━━━━━━━━━━━━━━━━━━━━━━━╇━━━━━━━━━━━━━━━━━━━━━━━━╇━━━━━━━━━━━━━━━┩\n",
       "│ embedding (<span style=\"color: #0087ff; text-decoration-color: #0087ff\">Embedding</span>)           │ (<span style=\"color: #00d7ff; text-decoration-color: #00d7ff\">None</span>, <span style=\"color: #00af00; text-decoration-color: #00af00\">500</span>, <span style=\"color: #00af00; text-decoration-color: #00af00\">128</span>)       │     <span style=\"color: #00af00; text-decoration-color: #00af00\">1,280,000</span> │\n",
       "├─────────────────────────────────┼────────────────────────┼───────────────┤\n",
       "│ simple_rnn (<span style=\"color: #0087ff; text-decoration-color: #0087ff\">SimpleRNN</span>)          │ (<span style=\"color: #00d7ff; text-decoration-color: #00d7ff\">None</span>, <span style=\"color: #00af00; text-decoration-color: #00af00\">128</span>)            │        <span style=\"color: #00af00; text-decoration-color: #00af00\">32,896</span> │\n",
       "├─────────────────────────────────┼────────────────────────┼───────────────┤\n",
       "│ dense (<span style=\"color: #0087ff; text-decoration-color: #0087ff\">Dense</span>)                   │ (<span style=\"color: #00d7ff; text-decoration-color: #00d7ff\">None</span>, <span style=\"color: #00af00; text-decoration-color: #00af00\">1</span>)              │           <span style=\"color: #00af00; text-decoration-color: #00af00\">129</span> │\n",
       "└─────────────────────────────────┴────────────────────────┴───────────────┘\n",
       "</pre>\n"
      ],
      "text/plain": [
       "┏━━━━━━━━━━━━━━━━━━━━━━━━━━━━━━━━━┳━━━━━━━━━━━━━━━━━━━━━━━━┳━━━━━━━━━━━━━━━┓\n",
       "┃\u001b[1m \u001b[0m\u001b[1mLayer (type)                   \u001b[0m\u001b[1m \u001b[0m┃\u001b[1m \u001b[0m\u001b[1mOutput Shape          \u001b[0m\u001b[1m \u001b[0m┃\u001b[1m \u001b[0m\u001b[1m      Param #\u001b[0m\u001b[1m \u001b[0m┃\n",
       "┡━━━━━━━━━━━━━━━━━━━━━━━━━━━━━━━━━╇━━━━━━━━━━━━━━━━━━━━━━━━╇━━━━━━━━━━━━━━━┩\n",
       "│ embedding (\u001b[38;5;33mEmbedding\u001b[0m)           │ (\u001b[38;5;45mNone\u001b[0m, \u001b[38;5;34m500\u001b[0m, \u001b[38;5;34m128\u001b[0m)       │     \u001b[38;5;34m1,280,000\u001b[0m │\n",
       "├─────────────────────────────────┼────────────────────────┼───────────────┤\n",
       "│ simple_rnn (\u001b[38;5;33mSimpleRNN\u001b[0m)          │ (\u001b[38;5;45mNone\u001b[0m, \u001b[38;5;34m128\u001b[0m)            │        \u001b[38;5;34m32,896\u001b[0m │\n",
       "├─────────────────────────────────┼────────────────────────┼───────────────┤\n",
       "│ dense (\u001b[38;5;33mDense\u001b[0m)                   │ (\u001b[38;5;45mNone\u001b[0m, \u001b[38;5;34m1\u001b[0m)              │           \u001b[38;5;34m129\u001b[0m │\n",
       "└─────────────────────────────────┴────────────────────────┴───────────────┘\n"
      ]
     },
     "metadata": {},
     "output_type": "display_data"
    },
    {
     "data": {
      "text/html": [
       "<pre style=\"white-space:pre;overflow-x:auto;line-height:normal;font-family:Menlo,'DejaVu Sans Mono',consolas,'Courier New',monospace\"><span style=\"font-weight: bold\"> Total params: </span><span style=\"color: #00af00; text-decoration-color: #00af00\">3,939,077</span> (15.03 MB)\n",
       "</pre>\n"
      ],
      "text/plain": [
       "\u001b[1m Total params: \u001b[0m\u001b[38;5;34m3,939,077\u001b[0m (15.03 MB)\n"
      ]
     },
     "metadata": {},
     "output_type": "display_data"
    },
    {
     "data": {
      "text/html": [
       "<pre style=\"white-space:pre;overflow-x:auto;line-height:normal;font-family:Menlo,'DejaVu Sans Mono',consolas,'Courier New',monospace\"><span style=\"font-weight: bold\"> Trainable params: </span><span style=\"color: #00af00; text-decoration-color: #00af00\">1,313,025</span> (5.01 MB)\n",
       "</pre>\n"
      ],
      "text/plain": [
       "\u001b[1m Trainable params: \u001b[0m\u001b[38;5;34m1,313,025\u001b[0m (5.01 MB)\n"
      ]
     },
     "metadata": {},
     "output_type": "display_data"
    },
    {
     "data": {
      "text/html": [
       "<pre style=\"white-space:pre;overflow-x:auto;line-height:normal;font-family:Menlo,'DejaVu Sans Mono',consolas,'Courier New',monospace\"><span style=\"font-weight: bold\"> Non-trainable params: </span><span style=\"color: #00af00; text-decoration-color: #00af00\">0</span> (0.00 B)\n",
       "</pre>\n"
      ],
      "text/plain": [
       "\u001b[1m Non-trainable params: \u001b[0m\u001b[38;5;34m0\u001b[0m (0.00 B)\n"
      ]
     },
     "metadata": {},
     "output_type": "display_data"
    },
    {
     "data": {
      "text/html": [
       "<pre style=\"white-space:pre;overflow-x:auto;line-height:normal;font-family:Menlo,'DejaVu Sans Mono',consolas,'Courier New',monospace\"><span style=\"font-weight: bold\"> Optimizer params: </span><span style=\"color: #00af00; text-decoration-color: #00af00\">2,626,052</span> (10.02 MB)\n",
       "</pre>\n"
      ],
      "text/plain": [
       "\u001b[1m Optimizer params: \u001b[0m\u001b[38;5;34m2,626,052\u001b[0m (10.02 MB)\n"
      ]
     },
     "metadata": {},
     "output_type": "display_data"
    }
   ],
   "source": [
    "model.summary()"
   ]
  },
  {
   "cell_type": "code",
   "execution_count": 6,
   "id": "b92dbb70",
   "metadata": {},
   "outputs": [
    {
     "data": {
      "text/plain": [
       "[array([[-1.2367035e+00,  8.7666236e-02,  2.2155900e-01, ...,\n",
       "          1.6109884e+00, -2.9885757e-01,  2.7684158e-02],\n",
       "        [-8.0717959e-02,  1.2322225e-02, -6.8140149e-02, ...,\n",
       "          8.1210434e-02,  3.6175620e-02, -4.1273732e-02],\n",
       "        [-1.2206582e-01, -6.4073190e-02, -1.0984448e-01, ...,\n",
       "          1.1691745e-01,  9.8368905e-02, -6.9111988e-02],\n",
       "        ...,\n",
       "        [ 4.5689240e-02, -5.4168556e-02,  8.1058770e-02, ...,\n",
       "         -8.5538305e-02,  6.1709911e-02, -1.0106400e-02],\n",
       "        [ 1.3092388e-02, -3.5769332e-02,  2.6350079e-02, ...,\n",
       "         -5.6495829e-03,  1.0126801e-03, -5.8006302e-02],\n",
       "        [-1.5212815e-02, -1.8061634e-02,  5.9790313e-02, ...,\n",
       "         -1.2729814e-02, -1.1420679e-02,  2.8436625e-02]], dtype=float32),\n",
       " array([[-0.14625937,  0.06987057,  0.13239591, ..., -0.03830888,\n",
       "         -0.07704557, -0.02511567],\n",
       "        [ 0.17348728,  0.04696063, -0.11292773, ..., -0.06730189,\n",
       "         -0.0073068 , -0.1176113 ],\n",
       "        [-0.02408179, -0.02981062,  0.08274545, ...,  0.11780716,\n",
       "          0.18024321, -0.03477249],\n",
       "        ...,\n",
       "        [-0.17850696, -0.0384601 , -0.05457735, ..., -0.17085758,\n",
       "         -0.01882385,  0.06834359],\n",
       "        [ 0.07435895, -0.0552477 ,  0.08511668, ..., -0.12718095,\n",
       "         -0.24546382, -0.03576331],\n",
       "        [-0.04413576, -0.17897283, -0.02527075, ...,  0.04668538,\n",
       "          0.06164119,  0.12884626]], dtype=float32),\n",
       " array([[ 0.05062914,  0.06127835,  0.12869388, ...,  0.06876966,\n",
       "         -0.08569196, -0.02480475],\n",
       "        [ 0.0450991 ,  0.09381913,  0.03868612, ..., -0.07905262,\n",
       "         -0.09695268, -0.09901203],\n",
       "        [ 0.02955181,  0.00591436,  0.02801714, ...,  0.08346757,\n",
       "         -0.09198702, -0.0586585 ],\n",
       "        ...,\n",
       "        [-0.04447078,  0.01357497,  0.08957417, ...,  0.00096508,\n",
       "         -0.05795448,  0.03452969],\n",
       "        [-0.13523488,  0.09679822, -0.02271945, ..., -0.04427912,\n",
       "          0.03821693,  0.05171492],\n",
       "        [ 0.05417876, -0.00172661,  0.08000696, ...,  0.00302044,\n",
       "          0.04892572, -0.10028184]], dtype=float32),\n",
       " array([-0.02148185,  0.05830756, -0.05536091, -0.08700265, -0.05475389,\n",
       "        -0.00267475, -0.02000903,  0.00793087, -0.03282609,  0.02826559,\n",
       "        -0.04178532, -0.00053055, -0.00385385, -0.03853692, -0.05342513,\n",
       "         0.01094778, -0.02964223, -0.07848704, -0.07723875, -0.03685956,\n",
       "         0.01083922, -0.01663733,  0.05706446,  0.03006786, -0.00612355,\n",
       "        -0.00847206, -0.06107314, -0.00508437, -0.07684964,  0.02025409,\n",
       "        -0.00873571, -0.05464233, -0.027917  , -0.02271512, -0.00268623,\n",
       "        -0.07401176, -0.02312544, -0.01600686, -0.04020482, -0.04760119,\n",
       "        -0.0462193 , -0.04498455, -0.0380353 ,  0.00921552, -0.03815185,\n",
       "        -0.02659362, -0.0280255 , -0.02030353, -0.0122176 ,  0.01598498,\n",
       "         0.01597578, -0.03104196, -0.05012045,  0.04913168, -0.0442229 ,\n",
       "         0.04223315,  0.02904202, -0.04569018,  0.05556247, -0.02123955,\n",
       "         0.00478645, -0.02928264,  0.01807624, -0.04671673, -0.05223989,\n",
       "        -0.02034379, -0.03601733, -0.04865434, -0.00732852, -0.03237818,\n",
       "        -0.00734297, -0.020895  , -0.0416863 , -0.01290697, -0.02920939,\n",
       "        -0.03921164,  0.02958617, -0.02871075, -0.04394881, -0.01489585,\n",
       "        -0.00051898, -0.042363  ,  0.04432392, -0.04113006, -0.02047536,\n",
       "        -0.0556666 , -0.01362937, -0.01727803, -0.04843195, -0.04241509,\n",
       "        -0.0808306 , -0.02351524, -0.01595254, -0.06761304, -0.01135162,\n",
       "        -0.03725631, -0.00818605,  0.03872721,  0.00562432, -0.03177388,\n",
       "        -0.05402481, -0.01318007, -0.06419668, -0.03536563, -0.03313431,\n",
       "         0.02037484, -0.03343503, -0.04217804, -0.00270718, -0.0532208 ,\n",
       "        -0.03822733, -0.00421817, -0.01290993, -0.04805752, -0.03217509,\n",
       "         0.00686744, -0.00890337, -0.05255273, -0.02473508, -0.04696535,\n",
       "        -0.07350127, -0.03229847, -0.01229038,  0.01989474,  0.01461683,\n",
       "        -0.02291157, -0.05246907, -0.04046998], dtype=float32),\n",
       " array([[ 0.12500997],\n",
       "        [-0.01184091],\n",
       "        [-0.02266829],\n",
       "        [ 0.10615797],\n",
       "        [-0.02435222],\n",
       "        [-0.14708883],\n",
       "        [ 0.13761285],\n",
       "        [ 0.2757512 ],\n",
       "        [-0.06325892],\n",
       "        [ 0.14328153],\n",
       "        [-0.1138097 ],\n",
       "        [-0.08119651],\n",
       "        [ 0.04410841],\n",
       "        [ 0.19786227],\n",
       "        [-0.20248242],\n",
       "        [ 0.17785604],\n",
       "        [ 0.20845906],\n",
       "        [ 0.12630615],\n",
       "        [-0.26024222],\n",
       "        [ 0.05688577],\n",
       "        [ 0.03892481],\n",
       "        [ 0.15406409],\n",
       "        [ 0.23080488],\n",
       "        [-0.16565716],\n",
       "        [-0.19255006],\n",
       "        [ 0.07327036],\n",
       "        [ 0.08512814],\n",
       "        [ 0.04193129],\n",
       "        [-0.00208816],\n",
       "        [-0.196902  ],\n",
       "        [ 0.22051218],\n",
       "        [-0.01298507],\n",
       "        [-0.15814458],\n",
       "        [-0.09576843],\n",
       "        [-0.05622566],\n",
       "        [ 0.29239097],\n",
       "        [ 0.05203293],\n",
       "        [-0.21570902],\n",
       "        [ 0.01495412],\n",
       "        [-0.1155476 ],\n",
       "        [ 0.02149514],\n",
       "        [ 0.11214693],\n",
       "        [-0.03766137],\n",
       "        [-0.09451735],\n",
       "        [ 0.03484195],\n",
       "        [ 0.06631675],\n",
       "        [ 0.00300256],\n",
       "        [ 0.14075825],\n",
       "        [-0.02845054],\n",
       "        [ 0.09641924],\n",
       "        [ 0.26258725],\n",
       "        [ 0.13474384],\n",
       "        [-0.09178609],\n",
       "        [ 0.01547146],\n",
       "        [ 0.02593834],\n",
       "        [ 0.14441632],\n",
       "        [-0.05043129],\n",
       "        [ 0.02851298],\n",
       "        [-0.24835832],\n",
       "        [ 0.13096419],\n",
       "        [ 0.11737903],\n",
       "        [-0.10068266],\n",
       "        [ 0.06252039],\n",
       "        [-0.10724277],\n",
       "        [-0.47179633],\n",
       "        [-0.21809274],\n",
       "        [ 0.21777329],\n",
       "        [ 0.05606843],\n",
       "        [-0.07929401],\n",
       "        [ 0.15528022],\n",
       "        [ 0.20707852],\n",
       "        [-0.00730433],\n",
       "        [ 0.17498876],\n",
       "        [ 0.18069945],\n",
       "        [ 0.14921895],\n",
       "        [ 0.19509259],\n",
       "        [-0.08622351],\n",
       "        [ 0.126195  ],\n",
       "        [-0.22890474],\n",
       "        [-0.06150917],\n",
       "        [-0.03473545],\n",
       "        [ 0.06360451],\n",
       "        [-0.1449124 ],\n",
       "        [-0.06447055],\n",
       "        [ 0.06166748],\n",
       "        [-0.10363007],\n",
       "        [ 0.06858744],\n",
       "        [ 0.0866926 ],\n",
       "        [ 0.4015175 ],\n",
       "        [ 0.03137042],\n",
       "        [-0.15179728],\n",
       "        [ 0.03950491],\n",
       "        [ 0.16285613],\n",
       "        [ 0.02055205],\n",
       "        [ 0.05819391],\n",
       "        [ 0.24450153],\n",
       "        [ 0.1906648 ],\n",
       "        [-0.28020838],\n",
       "        [ 0.02113021],\n",
       "        [ 0.23224391],\n",
       "        [ 0.02368444],\n",
       "        [ 0.16899453],\n",
       "        [-0.2168033 ],\n",
       "        [-0.01248262],\n",
       "        [-0.20660655],\n",
       "        [ 0.15681961],\n",
       "        [ 0.19052762],\n",
       "        [-0.2121348 ],\n",
       "        [ 0.16961035],\n",
       "        [-0.04155827],\n",
       "        [-0.08158817],\n",
       "        [ 0.11550982],\n",
       "        [ 0.11381877],\n",
       "        [ 0.0644443 ],\n",
       "        [-0.04050303],\n",
       "        [ 0.12628818],\n",
       "        [ 0.09871758],\n",
       "        [ 0.05894493],\n",
       "        [-0.01611227],\n",
       "        [-0.14686531],\n",
       "        [-0.15013272],\n",
       "        [-0.1703803 ],\n",
       "        [-0.10365634],\n",
       "        [ 0.15115413],\n",
       "        [ 0.10056277],\n",
       "        [ 0.07221308],\n",
       "        [-0.14468251],\n",
       "        [-0.11789676]], dtype=float32),\n",
       " array([0.2625524], dtype=float32)]"
      ]
     },
     "execution_count": 6,
     "metadata": {},
     "output_type": "execute_result"
    }
   ],
   "source": [
    "model.get_weights()"
   ]
  },
  {
   "cell_type": "code",
   "execution_count": 11,
   "id": "38e73ec0",
   "metadata": {},
   "outputs": [
    {
     "name": "stdout",
     "output_type": "stream",
     "text": [
      "Decoded review: ? this film was just brilliant casting location scenery story direction everyone's really suited the part they played and you could just imagine being there robert ? is an amazing actor and now the same being director ? father came from the same scottish island as myself so i loved the fact there was a real connection with this film the witty remarks throughout the film were great it was just brilliant so much that i bought the film as soon as it was released for ? and would recommend it to everyone to watch and the fly fishing was amazing really cried at the end it was so sad and you know what they say if you cry at a film it must have been good and this definitely was also ? to the two little boy's that played the ? of norman and paul they were just brilliant children are often left out of the ? list i think because the stars that play them all grown up are such a big profile for the whole film but these children are amazing and should be praised for what they have done don't you think the whole story was so lovely because it was true and was someone's life after all that was shared with us all\n"
     ]
    }
   ],
   "source": [
    "decoded_review = ' '.join([reverse_word_index.get(i - 3, '?') for i in sample_review])\n",
    "print(f\"Decoded review: {decoded_review}\")"
   ]
  },
  {
   "cell_type": "code",
   "execution_count": 12,
   "id": "13358a2a",
   "metadata": {},
   "outputs": [],
   "source": [
    "def preprocess_text(text):\n",
    "    words=text.lower().split()\n",
    "    encoded_review = [word_index.get(word, 2) for word in words]\n",
    "    padded_review = sequence.pad_sequences([encoded_review], maxlen=500)\n",
    "    return padded_review"
   ]
  },
  {
   "cell_type": "code",
   "execution_count": 13,
   "id": "89682bfa",
   "metadata": {},
   "outputs": [],
   "source": [
    "##prediction function\n",
    "def predict_sentiment(review):\n",
    "    preprocessed_input = preprocess_text(review)\n",
    "    prediction = model.predict(preprocessed_input)\n",
    "    sentiment= 'positive' if prediction[0][0] > 0.5 else 'negative'\n",
    "    return sentiment, prediction[0][0]"
   ]
  },
  {
   "cell_type": "code",
   "execution_count": 14,
   "id": "11ccd9b4",
   "metadata": {},
   "outputs": [
    {
     "name": "stdout",
     "output_type": "stream",
     "text": [
      "\u001b[1m1/1\u001b[0m \u001b[32m━━━━━━━━━━━━━━━━━━━━\u001b[0m\u001b[37m\u001b[0m \u001b[1m0s\u001b[0m 213ms/step\n",
      "Review: This movie was fantastic! I loved it.\n",
      "Sentiment: negative, Score: 0.4502\n"
     ]
    }
   ],
   "source": [
    "example_review = \"This movie was fantastic! I loved it.\"\n",
    "sentiment, score = predict_sentiment(example_review)\n",
    "print(f\"Review: {example_review}\\nSentiment: {sentiment}, Score: {score:.4f}\")"
   ]
  }
 ],
 "metadata": {
  "kernelspec": {
   "display_name": "venv (3.12.2)",
   "language": "python",
   "name": "python3"
  },
  "language_info": {
   "codemirror_mode": {
    "name": "ipython",
    "version": 3
   },
   "file_extension": ".py",
   "mimetype": "text/x-python",
   "name": "python",
   "nbconvert_exporter": "python",
   "pygments_lexer": "ipython3",
   "version": "3.12.2"
  }
 },
 "nbformat": 4,
 "nbformat_minor": 5
}
